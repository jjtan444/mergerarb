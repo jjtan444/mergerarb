{
 "cells": [
  {
   "cell_type": "code",
   "execution_count": 75,
   "metadata": {},
   "outputs": [],
   "source": [
    "import pandas as pd\n",
    "import numpy as np\n",
    "import matplotlib.pyplot as plt\n",
    "import utils\n",
    "\n",
    "pd.options.mode.chained_assignment = None"
   ]
  },
  {
   "cell_type": "code",
   "execution_count": 76,
   "metadata": {},
   "outputs": [
    {
     "data": {
      "text/html": [
       "<div>\n",
       "<style scoped>\n",
       "    .dataframe tbody tr th:only-of-type {\n",
       "        vertical-align: middle;\n",
       "    }\n",
       "\n",
       "    .dataframe tbody tr th {\n",
       "        vertical-align: top;\n",
       "    }\n",
       "\n",
       "    .dataframe thead th {\n",
       "        text-align: right;\n",
       "    }\n",
       "</style>\n",
       "<table border=\"1\" class=\"dataframe\">\n",
       "  <thead>\n",
       "    <tr style=\"text-align: right;\">\n",
       "      <th></th>\n",
       "      <th>Date Announced</th>\n",
       "      <th>Date Effective</th>\n",
       "      <th>Date Withdrawn</th>\n",
       "      <th>Deal Number</th>\n",
       "      <th>Target Name</th>\n",
       "      <th>Acquiror Name</th>\n",
       "      <th>Exchange Ratio</th>\n",
       "      <th>Price Per Share</th>\n",
       "      <th>Acquiror's price per share</th>\n",
       "      <th>Target Share Price 1 Day Prior to Announcement ($)</th>\n",
       "      <th>Target Closing Price 1 Day After Ann Date ($)</th>\n",
       "      <th>Target Closing Price 60 Days After Ann Date ($)</th>\n",
       "      <th>Target Closing Price 90 Days After Ann Date ($)</th>\n",
       "      <th>Target Closing Price 180 Days After Ann Date ($)</th>\n",
       "      <th>Success</th>\n",
       "      <th>Predicted</th>\n",
       "    </tr>\n",
       "  </thead>\n",
       "  <tbody>\n",
       "    <tr>\n",
       "      <th>2485</th>\n",
       "      <td>2019-01-02</td>\n",
       "      <td>2019-05-17</td>\n",
       "      <td>NaT</td>\n",
       "      <td>3330497020</td>\n",
       "      <td>MedEquities Realty Trust Inc</td>\n",
       "      <td>Omega Healthcare Investors Inc</td>\n",
       "      <td>0.235</td>\n",
       "      <td>10.26</td>\n",
       "      <td>35.15</td>\n",
       "      <td>6.84</td>\n",
       "      <td>10.00</td>\n",
       "      <td>10.59</td>\n",
       "      <td>11.04</td>\n",
       "      <td>NaN</td>\n",
       "      <td>1</td>\n",
       "      <td>1</td>\n",
       "    </tr>\n",
       "    <tr>\n",
       "      <th>2487</th>\n",
       "      <td>2019-01-03</td>\n",
       "      <td>2019-11-20</td>\n",
       "      <td>NaT</td>\n",
       "      <td>3330372020</td>\n",
       "      <td>Celgene Corp</td>\n",
       "      <td>Bristol-Myers Squibb Co</td>\n",
       "      <td>1.000</td>\n",
       "      <td>102.43</td>\n",
       "      <td>52.43</td>\n",
       "      <td>66.64</td>\n",
       "      <td>84.90</td>\n",
       "      <td>85.74</td>\n",
       "      <td>93.85</td>\n",
       "      <td>93.88</td>\n",
       "      <td>1</td>\n",
       "      <td>1</td>\n",
       "    </tr>\n",
       "    <tr>\n",
       "      <th>2489</th>\n",
       "      <td>2019-01-07</td>\n",
       "      <td>2019-07-29</td>\n",
       "      <td>NaT</td>\n",
       "      <td>3331582020</td>\n",
       "      <td>HopFed Bancorp Inc</td>\n",
       "      <td>First Financial Corp</td>\n",
       "      <td>NaN</td>\n",
       "      <td>21.00</td>\n",
       "      <td>NaN</td>\n",
       "      <td>14.24</td>\n",
       "      <td>18.66</td>\n",
       "      <td>19.89</td>\n",
       "      <td>19.98</td>\n",
       "      <td>19.68</td>\n",
       "      <td>1</td>\n",
       "      <td>1</td>\n",
       "    </tr>\n",
       "    <tr>\n",
       "      <th>2492</th>\n",
       "      <td>2019-01-08</td>\n",
       "      <td>2019-10-25</td>\n",
       "      <td>NaT</td>\n",
       "      <td>3405759020</td>\n",
       "      <td>Isramco Inc</td>\n",
       "      <td>Naphtha Israel Petro Corp Ltd</td>\n",
       "      <td>NaN</td>\n",
       "      <td>121.40</td>\n",
       "      <td>NaN</td>\n",
       "      <td>121.38</td>\n",
       "      <td>NaN</td>\n",
       "      <td>103.01</td>\n",
       "      <td>119.29</td>\n",
       "      <td>123.30</td>\n",
       "      <td>1</td>\n",
       "      <td>1</td>\n",
       "    </tr>\n",
       "    <tr>\n",
       "      <th>2494</th>\n",
       "      <td>2019-01-14</td>\n",
       "      <td>NaT</td>\n",
       "      <td>2019-11-19</td>\n",
       "      <td>3333563020</td>\n",
       "      <td>Gannett Co Inc</td>\n",
       "      <td>MediaNews Group Inc</td>\n",
       "      <td>NaN</td>\n",
       "      <td>12.00</td>\n",
       "      <td>NaN</td>\n",
       "      <td>9.75</td>\n",
       "      <td>11.82</td>\n",
       "      <td>10.90</td>\n",
       "      <td>10.10</td>\n",
       "      <td>8.14</td>\n",
       "      <td>0</td>\n",
       "      <td>0</td>\n",
       "    </tr>\n",
       "  </tbody>\n",
       "</table>\n",
       "</div>"
      ],
      "text/plain": [
       "     Date Announced Date Effective Date Withdrawn  Deal Number  \\\n",
       "2485     2019-01-02     2019-05-17            NaT   3330497020   \n",
       "2487     2019-01-03     2019-11-20            NaT   3330372020   \n",
       "2489     2019-01-07     2019-07-29            NaT   3331582020   \n",
       "2492     2019-01-08     2019-10-25            NaT   3405759020   \n",
       "2494     2019-01-14            NaT     2019-11-19   3333563020   \n",
       "\n",
       "                       Target Name                   Acquiror Name  \\\n",
       "2485  MedEquities Realty Trust Inc  Omega Healthcare Investors Inc   \n",
       "2487                  Celgene Corp         Bristol-Myers Squibb Co   \n",
       "2489            HopFed Bancorp Inc            First Financial Corp   \n",
       "2492                   Isramco Inc   Naphtha Israel Petro Corp Ltd   \n",
       "2494                Gannett Co Inc             MediaNews Group Inc   \n",
       "\n",
       "      Exchange Ratio  Price Per Share  Acquiror's price per share  \\\n",
       "2485           0.235            10.26                       35.15   \n",
       "2487           1.000           102.43                       52.43   \n",
       "2489             NaN            21.00                         NaN   \n",
       "2492             NaN           121.40                         NaN   \n",
       "2494             NaN            12.00                         NaN   \n",
       "\n",
       "      Target Share Price 1 Day Prior to Announcement ($)  \\\n",
       "2485                                               6.84    \n",
       "2487                                              66.64    \n",
       "2489                                              14.24    \n",
       "2492                                             121.38    \n",
       "2494                                               9.75    \n",
       "\n",
       "      Target Closing Price 1 Day After Ann Date ($)  \\\n",
       "2485                                          10.00   \n",
       "2487                                          84.90   \n",
       "2489                                          18.66   \n",
       "2492                                            NaN   \n",
       "2494                                          11.82   \n",
       "\n",
       "      Target Closing Price 60 Days After Ann Date ($)  \\\n",
       "2485                                            10.59   \n",
       "2487                                            85.74   \n",
       "2489                                            19.89   \n",
       "2492                                           103.01   \n",
       "2494                                            10.90   \n",
       "\n",
       "      Target Closing Price 90 Days After Ann Date ($)  \\\n",
       "2485                                            11.04   \n",
       "2487                                            93.85   \n",
       "2489                                            19.98   \n",
       "2492                                           119.29   \n",
       "2494                                            10.10   \n",
       "\n",
       "      Target Closing Price 180 Days After Ann Date ($)  Success  Predicted  \n",
       "2485                                               NaN        1          1  \n",
       "2487                                             93.88        1          1  \n",
       "2489                                             19.68        1          1  \n",
       "2492                                            123.30        1          1  \n",
       "2494                                              8.14        0          0  "
      ]
     },
     "metadata": {},
     "output_type": "display_data"
    },
    {
     "data": {
      "text/plain": [
       "(302, 16)"
      ]
     },
     "execution_count": 76,
     "metadata": {},
     "output_type": "execute_result"
    }
   ],
   "source": [
    "df = utils.load_backtest_data()\n",
    "display(df.head())\n",
    "df.shape"
   ]
  },
  {
   "cell_type": "code",
   "execution_count": 77,
   "metadata": {},
   "outputs": [],
   "source": [
    "class Backtester:\n",
    "    def __init__(self, data: pd.DataFrame):\n",
    "        self.dummy_mode = False\n",
    "        self.data = data\n",
    "        self.cutoff_days = 180\n",
    "        self.cutoff_column = f\"Target Closing Price {self.cutoff_days} Days After Ann Date ($)\"\n",
    "        self.successes = None\n",
    "        self.failure = None\n",
    "        self.combined = None\n",
    "\n",
    "    def set_dummy_mode(self, mode: bool) -> 'Backtester':\n",
    "        self.dummy_mode = mode\n",
    "        return self\n",
    "\n",
    "    def set_cutoff_days(self, days: int) -> 'Backtester':\n",
    "        '''\n",
    "        Sets cutoff number of days to close the position if deal has not been completed yet\n",
    "        days: int\n",
    "            - options: 60, 90, 180\n",
    "        '''\n",
    "        if days not in (60, 90, 180):\n",
    "            raise Exception(f\"{days} not valid, options: 60, 90, 180\")\n",
    "        self.cutoff_days = days\n",
    "        self.cutoff_column = f\"Target Closing Price {days} Days After Ann Date ($)\"\n",
    "        return self\n",
    "\n",
    "    def start(self) -> 'Backtester':\n",
    "        '''\n",
    "        Runs backtest\n",
    "        '''\n",
    "        df = self.data.copy()\n",
    "        if self.dummy_mode:\n",
    "            # predict all true\n",
    "            longs = df\n",
    "        else:\n",
    "            longs = df[df[\"Predicted\"] == 1]\n",
    "\n",
    "        # if it takes longer than self.cutoff_days to complete the merger, close the position early \n",
    "        longs[\"Success\"] = np.where((longs[\"Success\"] == 1) & (longs[\"Date Announced\"] + pd.Timedelta(days=self.cutoff_days) < longs[\"Date Effective\"]), 0, 1)\n",
    "        \n",
    "        # only trade where premium is positive\n",
    "        longs = longs[longs[\"Price Per Share\"] > longs[\"Target Closing Price 1 Day After Ann Date ($)\"]] \n",
    "\n",
    "        successes = longs[longs[\"Success\"] == 1] \n",
    "        failures =  longs[longs[\"Success\"] == 0]\n",
    "\n",
    "        successes[\"Holding Time\"] = (successes[\"Date Effective\"] - successes[\"Date Announced\"]).dt.days / 252\n",
    "        failures[\"Holding Time\"] = self.cutoff_days / 252\n",
    "\n",
    "        successes[\"Pct Return\"] = ( successes[\"Price Per Share\"] / successes[\"Target Closing Price 1 Day After Ann Date ($)\"] ) ** successes[\"Holding Time\"] - 1\n",
    "        failures[\"Pct Return\"] =  ( failures[self.cutoff_column] / failures[\"Target Closing Price 1 Day After Ann Date ($)\"] ) ** failures[\"Holding Time\"] - 1\n",
    "        failures = failures.dropna(subset=\"Pct Return\")        \n",
    "\n",
    "        # remove anomalous data\n",
    "        \n",
    "        lower_q = 0.05\n",
    "        upper_q = 0.95\n",
    "\n",
    "        lower = successes[\"Pct Return\"].quantile(lower_q)\n",
    "        upper = successes[\"Pct Return\"].quantile(upper_q)\n",
    "        successes = successes[(successes[\"Pct Return\"] < upper) & (successes[\"Pct Return\"] > lower)]\n",
    "        \n",
    "        lower = failures[\"Pct Return\"].quantile(lower_q)\n",
    "        upper = failures[\"Pct Return\"].quantile(upper_q)\n",
    "        failures = failures[(failures[\"Pct Return\"] < upper) & (failures[\"Pct Return\"] > lower)]\n",
    "        \n",
    "        # send to fields\n",
    "        self.successes = successes\n",
    "        self.failures = failures\n",
    "        self.combined = pd.concat([successes, failures], axis=0)\n",
    "        \n",
    "        return self\n",
    "    \n",
    "    def get_results(self) -> tuple[pd.DataFrame, pd.DataFrame, pd.DataFrame]:\n",
    "        return self.successes, self.failures, self.combined"
   ]
  },
  {
   "attachments": {},
   "cell_type": "markdown",
   "metadata": {},
   "source": [
    "## Backtest Strategy"
   ]
  },
  {
   "cell_type": "code",
   "execution_count": 78,
   "metadata": {},
   "outputs": [],
   "source": [
    "# global settings\n",
    "CUTOFF_DAYS = 60"
   ]
  },
  {
   "cell_type": "code",
   "execution_count": 79,
   "metadata": {},
   "outputs": [],
   "source": [
    "backtest = Backtester(df)\n",
    "backtest.set_cutoff_days(CUTOFF_DAYS)\n",
    "backtest.start()\n",
    "successes, failures, combined = backtest.get_results()"
   ]
  },
  {
   "cell_type": "code",
   "execution_count": 80,
   "metadata": {},
   "outputs": [
    {
     "data": {
      "text/plain": [
       "(173, 18)"
      ]
     },
     "execution_count": 80,
     "metadata": {},
     "output_type": "execute_result"
    }
   ],
   "source": [
    "combined.shape"
   ]
  },
  {
   "cell_type": "code",
   "execution_count": 81,
   "metadata": {},
   "outputs": [
    {
     "name": "stdout",
     "output_type": "stream",
     "text": [
      "Model Performance:\n",
      "Success mean Return: 0.02239\n",
      "Failure mean Return: 0.00358\n",
      "Combined mean Return: 0.00532\n"
     ]
    }
   ],
   "source": [
    "def get_mean_returns(successes, failures, combined):\n",
    "    success_mean = successes[\"Pct Return\"].mean()\n",
    "    failure_mean = failures[\"Pct Return\"].mean()\n",
    "    combined_mean = combined[\"Pct Return\"].mean()\n",
    "    return success_mean, failure_mean, combined_mean\n",
    "\n",
    "success_mean, failure_mean, combined_mean = get_mean_returns(successes, failures, combined)\n",
    "print(\"Model Performance:\")\n",
    "print(f\"Success mean Return: {round(success_mean,5)}\")\n",
    "print(f\"Failure mean Return: {round(failure_mean,5)}\")\n",
    "print(f\"Combined mean Return: {round(combined_mean,5)}\")"
   ]
  },
  {
   "cell_type": "code",
   "execution_count": 82,
   "metadata": {},
   "outputs": [
    {
     "data": {
      "image/png": "[encoded data removed]",
      "text/plain": [
       "<Figure size 1152x576 with 1 Axes>"
      ]
     },
     "metadata": {
      "needs_background": "light"
     },
     "output_type": "display_data"
    }
   ],
   "source": [
    "def plot_return_distribution(successes, failures, combined):\n",
    "    successes[\"Pct Return\"].plot(kind=\"kde\", label=\"Success\", color=\"green\",figsize=(16,8))\n",
    "    failures[\"Pct Return\"].plot(kind=\"kde\", label=\"Failure\", color=\"red\")\n",
    "    combined[\"Pct Return\"].plot(kind=\"kde\", label=\"Combined\", color=\"blue\")\n",
    "\n",
    "    success_mean, failure_mean, combined_mean = get_mean_returns(successes, failures, combined)\n",
    "    plt.axvline(success_mean, color=\"green\", linestyle=\"--\", alpha=0.7)\n",
    "    plt.axvline(failure_mean, color=\"red\", linestyle=\"--\", alpha=0.7)\n",
    "    plt.axvline(combined_mean, color=\"blue\", linestyle=\"--\", alpha=0.7)\n",
    "    plt.title(\"Pct Return Distribution\")\n",
    "    plt.legend()\n",
    "    plt.show()\n",
    "\n",
    "plot_return_distribution(successes, failures, combined)"
   ]
  },
  {
   "attachments": {},
   "cell_type": "markdown",
   "metadata": {},
   "source": [
    "## Compare against dummy strategy (buy all mergers)"
   ]
  },
  {
   "cell_type": "code",
   "execution_count": 83,
   "metadata": {},
   "outputs": [],
   "source": [
    "backtest = Backtester(df).set_dummy_mode(True)\n",
    "backtest.set_cutoff_days(CUTOFF_DAYS)\n",
    "backtest.start()\n",
    "successes, failures, combined = backtest.get_results()"
   ]
  },
  {
   "cell_type": "code",
   "execution_count": 84,
   "metadata": {},
   "outputs": [
    {
     "name": "stdout",
     "output_type": "stream",
     "text": [
      "Dummy Performance:\n",
      "Success mean Return: 0.01997\n",
      "Failure mean Return: 0.00331\n",
      "Combined mean Return: 0.00495\n"
     ]
    }
   ],
   "source": [
    "success_mean, failure_mean, combined_mean = get_mean_returns(successes, failures, combined)\n",
    "print(\"Dummy Performance:\")\n",
    "print(f\"Success mean Return: {round(success_mean,5)}\")\n",
    "print(f\"Failure mean Return: {round(failure_mean,5)}\")\n",
    "print(f\"Combined mean Return: {round(combined_mean,5)}\")"
   ]
  },
  {
   "cell_type": "code",
   "execution_count": 85,
   "metadata": {},
   "outputs": [
    {
     "data": {
      "text/plain": [
       "(183, 18)"
      ]
     },
     "execution_count": 85,
     "metadata": {},
     "output_type": "execute_result"
    }
   ],
   "source": [
    "combined.shape"
   ]
  },
  {
   "cell_type": "code",
   "execution_count": 86,
   "metadata": {},
   "outputs": [
    {
     "data": {
      "image/png": "[encoded data removed]",
      "text/plain": [
       "<Figure size 1152x576 with 1 Axes>"
      ]
     },
     "metadata": {
      "needs_background": "light"
     },
     "output_type": "display_data"
    }
   ],
   "source": [
    "plot_return_distribution(successes, failures, combined)"
   ]
  },
  {
   "attachments": {},
   "cell_type": "markdown",
   "metadata": {},
   "source": [
    "## Conclusions\n",
    "- Even with the ability to detect false positives better, the market is already very efficient at pricing mergers\n",
    "- There is very marginal improvement from using our model against a \"long all mergers\" strategy"
   ]
  }
 ],
 "metadata": {
  "kernelspec": {
   "display_name": "Python 3",
   "language": "python",
   "name": "python3"
  },
  "language_info": {
   "codemirror_mode": {
    "name": "ipython",
    "version": 3
   },
   "file_extension": ".py",
   "mimetype": "text/x-python",
   "name": "python",
   "nbconvert_exporter": "python",
   "pygments_lexer": "ipython3",
   "version": "3.9.2 (default, Feb 28 2021, 17:03:44) \n[GCC 10.2.1 20210110]"
  },
  "orig_nbformat": 4,
  "vscode": {
   "interpreter": {
    "hash": "767d51c1340bd893661ea55ea3124f6de3c7a262a8b4abca0554b478b1e2ff90"
   }
  }
 },
 "nbformat": 4,
 "nbformat_minor": 2
}
